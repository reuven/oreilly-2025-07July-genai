{
 "cells": [
  {
   "cell_type": "markdown",
   "metadata": {},
   "source": [
    "# Agenda\n",
    "\n",
    "1. What are LLMs and modern chatbots?\n",
    "2. How can we use them?\n",
    "3. Pair programming -- with and without ChatGPT\n",
    "4. Pair programming with Claude\n",
    "    - Rubber duck programming\n",
    "    - Enthusiastic intern\n",
    "    - Interview technique\n",
    "5. Developing tests with `pytest` using a chatbot\n",
    "6. Using a chatbot in debugging\n",
    "7. Using a chatbot for researching - the \"reverse Socratic\" method\n",
    "8. Copilot inside of your IDE -- good and bad\n",
    "9. Where do we go next?"
   ]
  },
  {
   "cell_type": "markdown",
   "metadata": {},
   "source": [
    "# Intro to ChatGPT\n",
    "\n",
    "ChatGPT was released nearly 3 years ago. ChatGPT is a very sophisticated large-language model (LLM). The idea is:\n",
    "\n",
    "- ChatGPT was \"trained\" on a enormous amount of text on the Internet\n",
    "- If you ask a question, it'll then respond using autocomplete, but at another level\n",
    "\n",
    "If you ask about Python, it'll then find the most likely word to start an answer, and then most likely word to come after, and then the most likely word to come after that, etc.  Because of the incredible amount of text that ChatGPT has been trained on, it can answer questions on just about any topic we can think of. \n",
    "\n"
   ]
  }
 ],
 "metadata": {
  "kernelspec": {
   "display_name": "Python 3 (ipykernel)",
   "language": "python",
   "name": "python3"
  },
  "language_info": {
   "codemirror_mode": {
    "name": "ipython",
    "version": 3
   },
   "file_extension": ".py",
   "mimetype": "text/x-python",
   "name": "python",
   "nbconvert_exporter": "python",
   "pygments_lexer": "ipython3",
   "version": "3.13.2"
  }
 },
 "nbformat": 4,
 "nbformat_minor": 4
}
