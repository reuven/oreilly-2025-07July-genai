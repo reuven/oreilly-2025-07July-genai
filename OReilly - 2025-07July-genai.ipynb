{
 "cells": [
  {
   "cell_type": "markdown",
   "metadata": {},
   "source": [
    "# Agenda\n",
    "\n",
    "1. What are LLMs and modern chatbots?\n",
    "2. How can we use them?\n",
    "3. Pair programming -- with and without ChatGPT\n",
    "4. Pair programming with Claude\n",
    "    - Rubber duck programming\n",
    "    - Enthusiastic intern\n",
    "    - Interview technique\n",
    "5. Developing tests with `pytest` using a chatbot\n",
    "6. Using a chatbot in debugging\n",
    "7. Using a chatbot for researching - the \"reverse Socratic\" method\n",
    "8. Copilot inside of your IDE -- good and bad\n",
    "9. Where do we go next?"
   ]
  },
  {
   "cell_type": "markdown",
   "metadata": {},
   "source": [
    "# Intro to ChatGPT\n",
    "\n",
    "ChatGPT was released nearly 3 years ago. ChatGPT is a very sophisticated large-language model (LLM). The idea is:\n",
    "\n",
    "- ChatGPT was \"trained\" on a enormous amount of text on the Internet\n",
    "- If you ask a question, it'll then respond using autocomplete, but at another level\n",
    "\n",
    "If you ask about Python, it'll then find the most likely word to start an answer, and then most likely word to come after, and then the most likely word to come after that, etc.  Because of the incredible amount of text that ChatGPT has been trained on, it can answer questions on just about any topic we can think of. \n",
    "\n",
    "Not only can ChatGPT give us text, but it can also give us code! \n",
    "\n",
    "Mistake #1 is: Have it write code for you.\n",
    "\n",
    "If you really want an LLM to write code for you, then you should have the expertise needed to review that code and make sure it's reasonable! If you can understand and defend that code in public (say, at a code review), then that's great!\n",
    "\n",
    "Yes, let the LLM write code **with** you, but not for you.\n",
    "\n",
    "People are talking about \"vibe coding,\" which means that they describe what they want to the LLM, and they get code! \n",
    "\n"
   ]
  },
  {
   "cell_type": "markdown",
   "metadata": {},
   "source": [
    "# If not coding, then what?\n",
    "\n",
    "LLMs are a great benefit to coders! But not for writing code, at least not by themselves. One of the best ways to use LLMs in your coding work is as a sounding board, as a colleague who can give you some feedback on what you're doing.\n",
    "\n",
    "One great way to use an LLM is as a sounding board **BEFORE** you even start to write any code! Run your plan by the LLM, and see what it thinks. Where are the holes in your plan? Where could/should you approach things differently? Don't have it write code; just have it respond to your plan.\n",
    "\n",
    "The chatbot will almost always flatter you massively.\n",
    "\n",
    "You need to argue with it! You need to poke holes in what it's saying! You need to push back!\n",
    "\n",
    "Ask the chatbot -- is this true? Why is this the case? Would it be better to do X instead of Y? What are the trade-offs between X and Y?\n",
    "\n",
    "Asking questions helps in two ways:\n",
    "\n",
    "1. It gives you a better sense of whether the chatbot is telling you the truth. \n",
    "2. It forces you to crystallize your thinking and your understanding.\n",
    "\n"
   ]
  },
  {
   "cell_type": "markdown",
   "metadata": {},
   "source": [
    "# Once you've finished coding...\n",
    "\n",
    "Run the code through the LLM, and ask it to give you a code review.\n",
    "\n",
    "You'll get feedback right away on your code, and you have to know enough to push back and/or ignore the stuff that isn't true or relevant.\n",
    "\n",
    "Because LLMs are trained on code from the wild, and because Python has a long history and is very popular, it might very well auto-complete with nonsense or bad code or bad style.\n",
    "\n"
   ]
  },
  {
   "cell_type": "markdown",
   "metadata": {},
   "source": [
    "# Pair programming\n",
    "\n",
    "Pair programming is not a new technique. The idea is that two people share one computer and work together. In my experience as an instructor, when people pair , they (a) learn faster, (b) learn better and deeper, (c) finish the exercise faster, and (d) have fewer bugs than the people who insist on doing it themselves.\n",
    "\n",
    "Pairing has issues -- from attitudes to people's availability. Using a chatbot isn't a bad way to pair program.\n",
    "\n",
    "A big benefit is that you're expressing yourself, which means you're forced to think things through in order to communicate them. \n",
    "\n",
    "1. Present your strategy to the LLM\n",
    "2. As you code, or as you're about to write, ask the LLM what it thinks about each line, or each section of code. You might want (need) to say in the prompt, \"Don't rewrite the code, just give me an evaluation.\"\n",
    "3. Don't forget that it's OK (even good!) to push back and argue!\n",
    "\n",
    "With enough back-and-forth, you'll be more confident about your code, and your code will be better, because it will have gone through a process of discussion and argument.\n",
    "\n",
    "You can also pair after the coding phase, give the LLM your code and have it do a code review."
   ]
  },
  {
   "cell_type": "markdown",
   "metadata": {},
   "source": [
    "# Exercise: Pig Latin translator\n",
    "\n",
    "1. Write a function, `pl_word`, that takes a single word (all lowercase, no punctuation) and returns a string in which the word is translated into Pig Latin.\n",
    "2. Write a function, `pl_sentence`, that does the same thing for a sentence (all lowercase, no punctuation, but spaces between words).\n",
    "\n",
    "Rules for Pig Latin (children's \"secret\" language)\n",
    "\n",
    "- If a word starts with a vowel (a, e, i, o, u), then add `way` to the word\n",
    "- Otherwise, move the first letter to the end of the word, and add `ay`\n",
    "\n",
    "Example:\n",
    "\n",
    "- `computer` -> `omputercay`\n",
    "- `apple` -> `appleway`\n",
    "- `papaya` -> `apayapay`\n",
    "\n",
    "1. Get feedback on a strategy from an LLM\n",
    "2. Get feedback on your code.\n",
    "3. If you want, you can let the chatbot write small portions of the code, but better that you do it.\n",
    "4. If your functions work together, ask for feedback on how you did that."
   ]
  },
  {
   "cell_type": "markdown",
   "metadata": {},
   "source": [
    "# Adding errors\n",
    "\n",
    "- We add a bug, and the chatbot finds it\n",
    "- Ask the chatbot to add a bug, and we find it"
   ]
  },
  {
   "cell_type": "markdown",
   "metadata": {},
   "source": [
    "# Next up\n",
    "\n",
    "1. Claude (vs. ChatGPT)\n",
    "2. Adding tests to our code, and how a chatbot can help\n",
    "3. Interview technique"
   ]
  },
  {
   "cell_type": "markdown",
   "metadata": {},
   "source": [
    "# Claude vs. ChatGPT\n",
    "\n",
    "ChatGPT was created by OpenAI, started as a non-profit lab to make AI tools that would be avaialble for everyone. Now it's a weird hybrid of non-profit running a for-profit company. Originally, OpenAI wanted to ensure that AI would be both available to everyone and safe for everyone. Some of the original people from OpenAI left, saying that the focus on safety had become secondary (or worse).\n",
    "\n",
    "Anthropic was one of the companies started via this exodus from OpenAI. Their founders want to make AI avaialble to everyone, but their primary focus is safety. They have tried to innovate not just in safety, but also in interactions with your computer. They're very popular among coders.\n",
    "\n",
    "# Testing\n",
    "\n",
    "Testing is an important part of any major software project. Writing tests can be tedious and frustrating.\n",
    "\n",
    "When working on tests, I'm willing to outsource some (not all!) of the work to an LLM.\n",
    "\n"
   ]
  },
  {
   "cell_type": "markdown",
   "metadata": {},
   "source": [
    "# Exercise: Have Claude (or another chatbot) write tests\n",
    "\n",
    "1. Have the chatbot write some tests for your Pig Latin functions.\n",
    "2. Examine the tests - do these seem complete? What would you add? What would you remove?\n",
    "3. Do the tests seem to be written in a good, idiomatic way?\n",
    "4. When the chatbot is done writing the tests, and assuming they pass, then give the tests to the chatbot to critique itself."
   ]
  },
  {
   "cell_type": "code",
   "execution_count": null,
   "metadata": {},
   "outputs": [],
   "source": []
  }
 ],
 "metadata": {
  "kernelspec": {
   "display_name": "Python 3 (ipykernel)",
   "language": "python",
   "name": "python3"
  },
  "language_info": {
   "codemirror_mode": {
    "name": "ipython",
    "version": 3
   },
   "file_extension": ".py",
   "mimetype": "text/x-python",
   "name": "python",
   "nbconvert_exporter": "python",
   "pygments_lexer": "ipython3",
   "version": "3.13.2"
  }
 },
 "nbformat": 4,
 "nbformat_minor": 4
}
