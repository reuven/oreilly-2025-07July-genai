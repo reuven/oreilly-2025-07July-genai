{
 "cells": [
  {
   "cell_type": "markdown",
   "metadata": {},
   "source": [
    "# Agenda\n",
    "\n",
    "1. What are LLMs and modern chatbots?\n",
    "2. How can we use them?\n",
    "3. Pair programming -- with and without ChatGPT\n",
    "4. Pair programming with Claude\n",
    "    - Rubber duck programming\n",
    "    - Enthusiastic intern\n",
    "    - Interview technique\n",
    "5. Developing tests with `pytest` using a chatbot\n",
    "6. Using a chatbot in debugging\n",
    "7. Using a chatbot for researching - the \"reverse Socratic\" method\n",
    "8. Copilot inside of your IDE -- good and bad\n",
    "9. Where do we go next?"
   ]
  },
  {
   "cell_type": "markdown",
   "metadata": {},
   "source": [
    "# Intro to ChatGPT\n",
    "\n",
    "ChatGPT was released nearly 3 years ago. "
   ]
  }
 ],
 "metadata": {
  "kernelspec": {
   "display_name": "Python 3 (ipykernel)",
   "language": "python",
   "name": "python3"
  },
  "language_info": {
   "codemirror_mode": {
    "name": "ipython",
    "version": 3
   },
   "file_extension": ".py",
   "mimetype": "text/x-python",
   "name": "python",
   "nbconvert_exporter": "python",
   "pygments_lexer": "ipython3",
   "version": "3.13.2"
  }
 },
 "nbformat": 4,
 "nbformat_minor": 4
}
