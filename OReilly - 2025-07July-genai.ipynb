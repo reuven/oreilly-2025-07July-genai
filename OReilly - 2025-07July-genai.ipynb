{
 "cells": [
  {
   "cell_type": "markdown",
   "metadata": {},
   "source": [
    "# Agenda\n",
    "\n",
    "1. What are LLMs and modern chatbots?\n",
    "2. How can we use them?\n",
    "3. Pair programming -- with and without ChatGPT\n",
    "4. Pair programming with Claude\n",
    "    - Rubber duck programming\n",
    "    - Enthusiastic intern\n",
    "    - Interview technique\n",
    "5. Developing tests with `pytest` using a chatbot\n",
    "6. Using a chatbot in debugging\n",
    "7. Using a chatbot for researching - the \"reverse Socratic\" method\n",
    "8. Copilot inside of your IDE -- good and bad\n",
    "9. Where do we go next?"
   ]
  },
  {
   "cell_type": "markdown",
   "metadata": {},
   "source": [
    "# Intro to ChatGPT\n",
    "\n",
    "ChatGPT was released nearly 3 years ago. ChatGPT is a very sophisticated large-language model (LLM). The idea is:\n",
    "\n",
    "- ChatGPT was \"trained\" on a enormous amount of text on the Internet\n",
    "- If you ask a question, it'll then respond using autocomplete, but at another level\n",
    "\n",
    "If you ask about Python, it'll then find the most likely word to start an answer, and then most likely word to come after, and then the most likely word to come after that, etc.  Because of the incredible amount of text that ChatGPT has been trained on, it can answer questions on just about any topic we can think of. \n",
    "\n",
    "Not only can ChatGPT give us text, but it can also give us code! \n",
    "\n",
    "Mistake #1 is: Have it write code for you.\n",
    "\n",
    "If you really want an LLM to write code for you, then you should have the expertise needed to review that code and make sure it's reasonable! If you can understand and defend that code in public (say, at a code review), then that's great!\n",
    "\n",
    "Yes, let the LLM write code **with** you, but not for you.\n",
    "\n",
    "People are talking about \"vibe coding,\" which means that they describe what they want to the LLM, and they get code! \n",
    "\n"
   ]
  },
  {
   "cell_type": "markdown",
   "metadata": {},
   "source": [
    "# If not coding, then what?\n",
    "\n",
    "LLMs are a great benefit to coders! But not for writing code, at least not by themselves. One of the best ways to use LLMs in your coding work is as a sounding board, as a colleague who can give you some feedback on what you're doing.\n",
    "\n",
    "One great way to use an LLM is as a sounding board **BEFORE** you even start to write any code! Run your plan by the LLM, and see what it thinks. Where are the holes in your plan? Where could/should you approach things differently? Don't have it write code; just have it respond to your plan.\n",
    "\n",
    "The chatbot will almost always flatter you massively.\n",
    "\n",
    "You need to argue with it! You need to poke holes in what it's saying! You need to push back!\n",
    "\n",
    "Ask the chatbot -- is this true? Why is this the case? Would it be better to do X instead of Y? What are the trade-offs between X and Y?\n",
    "\n"
   ]
  }
 ],
 "metadata": {
  "kernelspec": {
   "display_name": "Python 3 (ipykernel)",
   "language": "python",
   "name": "python3"
  },
  "language_info": {
   "codemirror_mode": {
    "name": "ipython",
    "version": 3
   },
   "file_extension": ".py",
   "mimetype": "text/x-python",
   "name": "python",
   "nbconvert_exporter": "python",
   "pygments_lexer": "ipython3",
   "version": "3.13.2"
  }
 },
 "nbformat": 4,
 "nbformat_minor": 4
}
